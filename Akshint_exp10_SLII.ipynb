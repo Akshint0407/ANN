{
 "cells": [
  {
   "cell_type": "markdown",
   "id": "bc75967d-b5e3-44b5-9f5b-5af0bbc6e4a2",
   "metadata": {},
   "source": [
    "# Akshint Varma\n",
    "# A-03"
   ]
  },
  {
   "cell_type": "code",
   "execution_count": 5,
   "id": "ae73146f-1ef7-4f75-85c3-20683e3214e2",
   "metadata": {},
   "outputs": [
    {
     "name": "stdout",
     "output_type": "stream",
     "text": [
      "Downloading data from https://storage.googleapis.com/tensorflow/tf-keras-datasets/mnist.npz\n",
      "11490434/11490434 [==============================] - 4s 0us/step\n",
      "Epoch 1/3\n",
      "1875/1875 [==============================] - 33s 17ms/step - loss: 0.1531 - accuracy: 0.9546 - val_loss: 0.0516 - val_accuracy: 0.9836\n",
      "Epoch 2/3\n",
      "1875/1875 [==============================] - 33s 18ms/step - loss: 0.0523 - accuracy: 0.9840 - val_loss: 0.0430 - val_accuracy: 0.9859\n",
      "Epoch 3/3\n",
      "1875/1875 [==============================] - 32s 17ms/step - loss: 0.0373 - accuracy: 0.9883 - val_loss: 0.0427 - val_accuracy: 0.9863\n",
      "313/313 [==============================] - 2s 6ms/step - loss: 0.0427 - accuracy: 0.9863\n",
      "Test accuracy: 0.986299991607666\n"
     ]
    }
   ],
   "source": [
    "import tensorflow as tf \n",
    "# Load the MNIST dataset \n",
    "(x_train, y_train), (x_test, y_test) = tf.keras.datasets.mnist.load_data() \n",
    "\n",
    "# Normalize pixel values to [0, 1] \n",
    "x_train = x_train.astype('float32') / 255.0 \n",
    "x_test = x_test.astype('float32') / 255.0 \n",
    "\n",
    "# Add a channel dimension to the images \n",
    "x_train = x_train[..., tf.newaxis] \n",
    "x_test = x_test[..., tf.newaxis] \n",
    "\n",
    "# Set up the Layers of the network \n",
    "model = tf.keras.models. Sequential ([ tf.keras.layers. Conv2D (32, (3, 3), activation= 'relu', input_shape=(28, 28, 1)), \n",
    "                                       tf.keras.layers. MaxPooling2D((2, 2)), \n",
    "                                       tf.keras.layers. Conv2D (64, (3, 3), activation= 'relu'), \n",
    "                                       tf.keras.layers. MaxPooling2D((2, 2)), \n",
    "                                       tf.keras.layers. Flatten(), \n",
    "                                       tf.keras.layers. Dense (10, activation='softmax')]) \n",
    "\n",
    "# Compile the model \n",
    "model.compile(optimizer='adam', \n",
    "loss='sparse_categorical_crossentropy', \n",
    "metrics=['accuracy']) \n",
    "                                      \n",
    "# Train the model on the MNIST dataset \n",
    "model.fit(x_train, y_train, epochs=3, \n",
    "          validation_data=(x_test, y_test)) \n",
    "                                      \n",
    "#Evaluate the model on the MNIST test data \n",
    "test_loss, test_acc = model.evaluate(x_test, y_test)\n",
    "print('Test accuracy:', test_acc)                                       "
   ]
  }
 ],
 "metadata": {
  "kernelspec": {
   "display_name": "Python 3 (ipykernel)",
   "language": "python",
   "name": "python3"
  },
  "language_info": {
   "codemirror_mode": {
    "name": "ipython",
    "version": 3
   },
   "file_extension": ".py",
   "mimetype": "text/x-python",
   "name": "python",
   "nbconvert_exporter": "python",
   "pygments_lexer": "ipython3",
   "version": "3.11.9"
  }
 },
 "nbformat": 4,
 "nbformat_minor": 5
}
