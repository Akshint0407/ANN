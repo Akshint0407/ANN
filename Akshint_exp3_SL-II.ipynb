{
 "cells": [
  {
   "cell_type": "markdown",
   "id": "f0e8ec43",
   "metadata": {},
   "source": [
    "# Akshint Varma\n",
    "# A-03"
   ]
  },
  {
   "cell_type": "code",
   "execution_count": 1,
   "id": "356dc580-94b4-411a-a46d-81acfe5ddac2",
   "metadata": {},
   "outputs": [],
   "source": [
    "import numpy as np \n",
    "# Define input data and target values input_data = np.array([[1,1,1,0,1,1,1], \n",
    "input_data = np.array([[1,1,1,0,1,1,1],  # 0\n",
    "                       [0,0,1,0,0,1,0],  # 1\n",
    "                       [1,0,1,1,1,0,1], # 2 \n",
    "                       [1,0,1,1,0,1,1], # 3 \n",
    "                       [0,1,1,1,0,1,0], # 4 \n",
    "                       [1,1,0,1,0,1,1], # 5 \n",
    "                       [1,1,0,1,1,1,1], # 6 \n",
    "                       [1,0,1,0,0,1,0], # 7 \n",
    "                       [1,1,1,1,1,1,1], # 8 \n",
    "                       [1,1,1,1,0,1,1]]) # 9 \n",
    "target_values = np.array([[1,0], # Even \n",
    "                          [0,1], # Odd \n",
    "                          [1,0], # Even \n",
    "                          [0,1], # Odd \n",
    "                          [1,0], # Even \n",
    "                          [0,1], # Odd \n",
    "                          [1,0], # Even \n",
    "                          [0,1], # Odd \n",
    "                          [1,0], # Even \n",
    "                          [0,1]]) # Odd "
   ]
  },
  {
   "cell_type": "code",
   "execution_count": 2,
   "id": "e3712ce2-9d55-405f-8eac-4910f5b7d9d4",
   "metadata": {},
   "outputs": [],
   "source": [
    "# Define the Perceptron Neural Network class \n",
    "class PerceptronNN: \n",
    "    def __init__(self, num_inputs, num_outputs): \n",
    "        self.weights = np.zeros((num_inputs, num_outputs)) \n",
    "        self.bias = np.zeros(num_outputs) \n",
    "    def activation(self, x): \n",
    "        return 1 if x >= 0 else 0 \n",
    "    def feedforward(self, inputs): \n",
    "        net = np.dot(inputs, self.weights) + self.bias \n",
    "        output = np.array([self.activation (x) for x in net]) \n",
    "        return output \n",
    "    def train(self, input_data, target_values, learning_rate, epochs): \n",
    "        for epoch in range(epochs): \n",
    "            errors = 0 \n",
    "            for i, input in enumerate(input_data): \n",
    "                    target = target_values[i] \n",
    "                    output = self.feedforward (input) \n",
    "                    error = target - output\n",
    "                    self.weights += learning_rate * np.outer (input, error) \n",
    "                    self.bias += learning_rate * error\n",
    "                    error += np.abs(error).sum() \n"
   ]
  },
  {
   "cell_type": "code",
   "execution_count": 3,
   "id": "5245d156-e299-42c3-8c87-a0efbe2f7e12",
   "metadata": {},
   "outputs": [
    {
     "name": "stdout",
     "output_type": "stream",
     "text": [
      "Odd\n",
      "Even\n",
      "Even\n"
     ]
    }
   ],
   "source": [
    "# Train the Perceptron Neural Network \n",
    "perceptron_nn = PerceptronNN(num_inputs=7, num_outputs=2) \n",
    "perceptron_nn.train(input_data, target_values, learning_rate=0.1, epochs=100) \n",
    "# Test the Perceptron Neural Network on some sample inputs input_test = np.array([[1,1,0,1,0,1,1], # 5 \n",
    "input_test = np.array([[1,1,0,1,0,1,1],\n",
    "                       [1,1,1,0,1,1,1], # 0 \n",
    "                       [1,1,1,1,1,1,1]]) # 8\n",
    "\n",
    "for input in input_test: \n",
    "    output = perceptron_nn.feedforward(input)\n",
    "    if output[0] == 1: \n",
    "        print(\"Even\")\n",
    "    else: \n",
    "        print(\"Odd\") "
   ]
  },
  {
   "cell_type": "code",
   "execution_count": null,
   "id": "8ae33446-647f-4aa9-9229-5f8ca99fcc1c",
   "metadata": {},
   "outputs": [],
   "source": []
  }
 ],
 "metadata": {
  "kernelspec": {
   "display_name": "Python 3 (ipykernel)",
   "language": "python",
   "name": "python3"
  },
  "language_info": {
   "codemirror_mode": {
    "name": "ipython",
    "version": 3
   },
   "file_extension": ".py",
   "mimetype": "text/x-python",
   "name": "python",
   "nbconvert_exporter": "python",
   "pygments_lexer": "ipython3",
   "version": "3.11.9"
  }
 },
 "nbformat": 4,
 "nbformat_minor": 5
}
