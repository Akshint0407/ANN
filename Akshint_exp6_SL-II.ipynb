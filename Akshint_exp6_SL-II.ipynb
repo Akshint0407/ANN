{
 "cells": [
  {
   "cell_type": "markdown",
   "id": "fc425b68",
   "metadata": {},
   "source": [
    "# Akshint Varma\n",
    "# A-03"
   ]
  },
  {
   "cell_type": "code",
   "execution_count": 1,
   "id": "28503c6e-67e7-4747-9170-a70cbe9abdf0",
   "metadata": {},
   "outputs": [],
   "source": [
    "import numpy as np "
   ]
  },
  {
   "cell_type": "code",
   "execution_count": 33,
   "id": "673e3b46-8233-4c44-84da-887186dbd34d",
   "metadata": {},
   "outputs": [],
   "source": [
    "class NeuralNetwork: \n",
    "    def __init__(self, input_size, hidden_size, output_size): \n",
    "        self.input_size = input_size \n",
    "        self.hidden_size = hidden_size \n",
    "        self.output_size = output_size \n",
    "\n",
    "        #initialize weights \n",
    "        self.W1 = np.random.randn(self.input_size, self.hidden_size) \n",
    "        self.W2 = np.random.randn(self.hidden_size, self.output_size) \n",
    "    \n",
    "    def sigmoid(self, x): \n",
    "        return 1 / (1 + np.exp(-x)) \n",
    "        \n",
    "    def sigmoid_derivative(self, x): \n",
    "        return x * (1 - x) \n",
    "        \n",
    "    def forward(self, X): \n",
    "        #calculate output of hidden layer \n",
    "        self.z = np.dot(X, self.W1) \n",
    "        self.z2 = self.sigmoid(self.z) \n",
    "        #calculate output of output Layer \n",
    "        self.z3 = np.dot(self.z2, self.W2) \n",
    "        output = self.sigmoid(self.z3) \n",
    "        return output \n",
    "        \n",
    "    def backward(self, x, y, output): \n",
    "        #calculate the error and derivative of error for output Layer \n",
    "        self.output_error = y - output\n",
    "        self.output_delta  = self.output_error * self.sigmoid_derivative(output) \n",
    "        #calculate error and derivative of error for hidden Layer \n",
    "        self.z2_error = self.output_delta.dot(self.W2.T) \n",
    "        self.z2_delta = self.z2_error * self.sigmoid_derivative(self.z2) \n",
    "        #update weights \n",
    "        self.W1 += X.T.dot(self.z2_delta) \n",
    "        self.W2 += self.z2.T.dot(self.output_delta) \n",
    "        \n",
    "    def train(self, x, y, epochs): \n",
    "        for i in range(epochs): \n",
    "            #forward propagation \n",
    "            output = self.forward(X) \n",
    "            \n",
    "            #backward propagation \n",
    "            self.backward(X, y, output)"
   ]
  },
  {
   "cell_type": "code",
   "execution_count": 34,
   "id": "df4bab2c-3358-473b-b9e7-a45be034592d",
   "metadata": {},
   "outputs": [],
   "source": [
    "#create a neural network object by specifying the number of inputs, hidden units, \n",
    "nn = NeuralNetwork(input_size=2, hidden_size=3, output_size=1) "
   ]
  },
  {
   "cell_type": "code",
   "execution_count": 35,
   "id": "8d972430-97f8-468a-be79-f2f006df4271",
   "metadata": {},
   "outputs": [],
   "source": [
    "#specify train data 'X' and target output 'y' \n",
    "X = np.array([[0, 0], [0, 1], [1, 0], [1, 1]]) \n",
    "y = np.array([[0], [1], [1], [0]]) \n",
    "#train the network \n",
    "nn.train(X, y, epochs=10000) "
   ]
  },
  {
   "cell_type": "code",
   "execution_count": 36,
   "id": "67e48342-b17b-446b-99f9-9e339e6c5a07",
   "metadata": {},
   "outputs": [
    {
     "name": "stdout",
     "output_type": "stream",
     "text": [
      "[[0.90422904]\n",
      " [0.97267919]\n",
      " [0.90623655]\n",
      " [0.51648261]]\n"
     ]
    }
   ],
   "source": [
    "#make predictions on new data \n",
    "new_data = np.array([[0, 0.5], [0, 0.8], [1, 0.2], [1, 0.6]]) \n",
    "predictions = nn.forward(new_data) \n",
    "print(predictions) "
   ]
  },
  {
   "cell_type": "code",
   "execution_count": null,
   "id": "711e0e02-db7b-4b42-930b-b7f620c1db9c",
   "metadata": {},
   "outputs": [],
   "source": []
  }
 ],
 "metadata": {
  "kernelspec": {
   "display_name": "Python 3 (ipykernel)",
   "language": "python",
   "name": "python3"
  },
  "language_info": {
   "codemirror_mode": {
    "name": "ipython",
    "version": 3
   },
   "file_extension": ".py",
   "mimetype": "text/x-python",
   "name": "python",
   "nbconvert_exporter": "python",
   "pygments_lexer": "ipython3",
   "version": "3.11.9"
  }
 },
 "nbformat": 4,
 "nbformat_minor": 5
}
