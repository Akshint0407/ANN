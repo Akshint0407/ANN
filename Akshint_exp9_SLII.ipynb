{
 "cells": [
  {
   "cell_type": "markdown",
   "id": "9bc93ec4-f55c-4132-befc-8c26aba21780",
   "metadata": {},
   "source": [
    "# Akshint Varma\n",
    "# A-03"
   ]
  },
  {
   "cell_type": "code",
   "execution_count": 28,
   "id": "49518919-f324-4a77-8e45-9c24eda4dd36",
   "metadata": {},
   "outputs": [],
   "source": [
    "import tensorflow as tf \n",
    "import numpy as np "
   ]
  },
  {
   "cell_type": "code",
   "execution_count": 29,
   "id": "37b4aa57-6a53-4820-8af1-4a2cfe7918a2",
   "metadata": {},
   "outputs": [],
   "source": [
    "# Generate some random data \n",
    "np.random.seed(0) \n",
    "x = np.random.rand(1000, 2) "
   ]
  },
  {
   "cell_type": "code",
   "execution_count": 30,
   "id": "b62997ab-9f39-40a3-9e63-c43b674778f2",
   "metadata": {},
   "outputs": [],
   "source": [
    "y = np.random.randint(2, size=1000) "
   ]
  },
  {
   "cell_type": "code",
   "execution_count": 31,
   "id": "28fb5972-91f3-406f-a5c4-9b47e2f0dd12",
   "metadata": {},
   "outputs": [],
   "source": [
    "# Split the data into training and testing sets \n",
    "x_train, x_test = x[:800], x[800:] \n",
    "y_train, y_test = y[:800], y[800:] "
   ]
  },
  {
   "cell_type": "code",
   "execution_count": 105,
   "id": "4d23c2c9-1b31-4be1-a41c-553c8a923f28",
   "metadata": {},
   "outputs": [],
   "source": [
    "# Define the logistic regression model\n",
    "model = tf.keras.Sequential([\n",
    "    tf.keras.layers.Dense(1, activation='sigmoid', input_dim=2),\n",
    "    tf.keras.layers.Dense(1, activation='sigmoid', input_dim=7),\n",
    "])"
   ]
  },
  {
   "cell_type": "code",
   "execution_count": 106,
   "id": "2e452399-9b9f-4fe2-9b8b-c87a5c6383a0",
   "metadata": {},
   "outputs": [],
   "source": [
    "# Compile and train the model \n",
    "model.compile(optimizer='adam', loss = tf.keras.losses.BinaryCrossentropy(from_logits=False), \n",
    "metrics=['accuracy'])"
   ]
  },
  {
   "cell_type": "code",
   "execution_count": 107,
   "id": "43d20d34-cb04-4e89-a95c-ff632f15e7ea",
   "metadata": {},
   "outputs": [
    {
     "name": "stdout",
     "output_type": "stream",
     "text": [
      "Epoch 1/10\n",
      "25/25 [==============================] - 1s 4ms/step - loss: 0.8096 - accuracy: 0.4875\n",
      "Epoch 2/10\n",
      "25/25 [==============================] - 0s 3ms/step - loss: 0.7979 - accuracy: 0.4875\n",
      "Epoch 3/10\n",
      "25/25 [==============================] - 0s 3ms/step - loss: 0.7867 - accuracy: 0.4875\n",
      "Epoch 4/10\n",
      "25/25 [==============================] - 0s 4ms/step - loss: 0.7767 - accuracy: 0.4875\n",
      "Epoch 5/10\n",
      "25/25 [==============================] - 0s 4ms/step - loss: 0.7677 - accuracy: 0.4875\n",
      "Epoch 6/10\n",
      "25/25 [==============================] - 0s 4ms/step - loss: 0.7592 - accuracy: 0.4875\n",
      "Epoch 7/10\n",
      "25/25 [==============================] - 0s 4ms/step - loss: 0.7519 - accuracy: 0.4875\n",
      "Epoch 8/10\n",
      "25/25 [==============================] - 0s 4ms/step - loss: 0.7449 - accuracy: 0.4875\n",
      "Epoch 9/10\n",
      "25/25 [==============================] - 0s 4ms/step - loss: 0.7389 - accuracy: 0.4875\n",
      "Epoch 10/10\n",
      "25/25 [==============================] - 0s 3ms/step - loss: 0.7333 - accuracy: 0.4875\n"
     ]
    }
   ],
   "source": [
    "model.fit(x_train, y_train, epochs=10);"
   ]
  },
  {
   "cell_type": "code",
   "execution_count": 108,
   "id": "f3709fde-4641-44f3-bf02-ae96cba728f1",
   "metadata": {},
   "outputs": [
    {
     "name": "stdout",
     "output_type": "stream",
     "text": [
      "7/7 [==============================] - 0s 4ms/step - loss: 0.7141 - accuracy: 0.5300\n",
      "Test loss: 0.7141174077987671\n",
      "Test accuracy: 0.5299999713897705\n"
     ]
    }
   ],
   "source": [
    "# Evaluate the model on the testing data \n",
    "loss, accuracy = model.evaluate(x_test, y_test) \n",
    "print('Test loss:', loss) \n",
    "print('Test accuracy:', accuracy)"
   ]
  },
  {
   "cell_type": "code",
   "execution_count": null,
   "id": "471a9585-a665-40f7-acad-4794629c2961",
   "metadata": {},
   "outputs": [],
   "source": []
  }
 ],
 "metadata": {
  "kernelspec": {
   "display_name": "Python 3 (ipykernel)",
   "language": "python",
   "name": "python3"
  },
  "language_info": {
   "codemirror_mode": {
    "name": "ipython",
    "version": 3
   },
   "file_extension": ".py",
   "mimetype": "text/x-python",
   "name": "python",
   "nbconvert_exporter": "python",
   "pygments_lexer": "ipython3",
   "version": "3.11.9"
  }
 },
 "nbformat": 4,
 "nbformat_minor": 5
}
