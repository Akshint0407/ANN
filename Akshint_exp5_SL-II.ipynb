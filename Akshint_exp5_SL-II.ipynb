{
 "cells": [
  {
   "cell_type": "markdown",
   "id": "bdf0fd0a",
   "metadata": {},
   "source": [
    "# Akshint Varma\n",
    "# A-03"
   ]
  },
  {
   "cell_type": "code",
   "execution_count": 1,
   "id": "eaf84bfb-cb0a-4440-9f9e-27b2a37f565d",
   "metadata": {},
   "outputs": [],
   "source": [
    "import numpy as np"
   ]
  },
  {
   "cell_type": "markdown",
   "id": "53402706-1f17-448f-a247-fb028aaae483",
   "metadata": {},
   "source": [
    "define BAM Network"
   ]
  },
  {
   "cell_type": "code",
   "execution_count": 11,
   "id": "94d7c863-8ad0-4dbb-bb07-1ee778951728",
   "metadata": {},
   "outputs": [],
   "source": [
    "class BAM: \n",
    "    def __init__(self, input_size, output_size): \n",
    "        self.weights = np.zeros((output_size, input_size)) \n",
    "        \n",
    "    def train(self, input_patterns, output_patterns): \n",
    "        for i in range(input_patterns.shape[0]): \n",
    "            X = input_patterns[i] \n",
    "            y = output_patterns[i] \n",
    "            self.weights += np.outer(y, X) \n",
    "            \n",
    "    def recall_input(self, output_patterns): \n",
    "        return np.dot(self.weights, output_patterns) \n",
    "        \n",
    "    def recall_output(self, input_patterns): \n",
    "        return np.dot(self.weights, input_patterns)"
   ]
  },
  {
   "cell_type": "markdown",
   "id": "21423154-90b7-4b82-bb00-5f99328a9b7b",
   "metadata": {},
   "source": [
    "Implement BAM Network "
   ]
  },
  {
   "cell_type": "code",
   "execution_count": 12,
   "id": "931417ed-6307-4877-866c-042673bd72c6",
   "metadata": {},
   "outputs": [],
   "source": [
    "input_size = 2 \n",
    "output_size = 2 \n",
    "bam = BAM(input_size, output_size)"
   ]
  },
  {
   "cell_type": "markdown",
   "id": "4f3df9de-c4da-4e82-844d-c92655d439c4",
   "metadata": {},
   "source": [
    "Train the Network "
   ]
  },
  {
   "cell_type": "code",
   "execution_count": 13,
   "id": "8725ce15-5c25-4994-a2b5-d1df81fa55bd",
   "metadata": {},
   "outputs": [],
   "source": [
    "input_patterns = np.array([[1, -1], [-1, 1]]) \n",
    "output_patterns = np.array([[-1, 1], [1, -1]]) \n",
    "bam.train(input_patterns, output_patterns)"
   ]
  },
  {
   "cell_type": "markdown",
   "id": "c5416701-5fe6-41a3-bc1b-822fe8592380",
   "metadata": {},
   "source": [
    "Test input to output "
   ]
  },
  {
   "cell_type": "code",
   "execution_count": 24,
   "id": "179e5674-aad3-4357-b95e-704e3faf8a42",
   "metadata": {},
   "outputs": [
    {
     "name": "stdout",
     "output_type": "stream",
     "text": [
      "Input: [ 1 -1]\n",
      "Recalled Output: [-4.  4.]\n"
     ]
    }
   ],
   "source": [
    "test_input = np.array([1, -1]) \n",
    "output_recall = bam.recall_output(test_input) \n",
    "print(\"Input:\", test_input) \n",
    "print(\"Recalled Output:\", output_recall) "
   ]
  },
  {
   "cell_type": "markdown",
   "id": "12767ca3-db4a-466e-8c60-21d12b229189",
   "metadata": {},
   "source": [
    "Test output to input"
   ]
  },
  {
   "cell_type": "code",
   "execution_count": 25,
   "id": "810beba4-f313-4526-8272-73a22aa94e8a",
   "metadata": {},
   "outputs": [
    {
     "name": "stdout",
     "output_type": "stream",
     "text": [
      "Input Recall: [ 4. -4.]\n",
      "Recalled Output:  [-1  1]\n"
     ]
    }
   ],
   "source": [
    "test_output = np.array([-1, 1]) \n",
    "\n",
    "input_recall = bam.recall_input(test_output) \n",
    "print(\"Input Recall:\", input_recall) \n",
    "print(\"Recalled Output: \", test_output) \n"
   ]
  },
  {
   "cell_type": "code",
   "execution_count": null,
   "id": "acd79298-1902-4170-be95-797d0a7bb0fe",
   "metadata": {},
   "outputs": [],
   "source": []
  }
 ],
 "metadata": {
  "kernelspec": {
   "display_name": "Python 3 (ipykernel)",
   "language": "python",
   "name": "python3"
  },
  "language_info": {
   "codemirror_mode": {
    "name": "ipython",
    "version": 3
   },
   "file_extension": ".py",
   "mimetype": "text/x-python",
   "name": "python",
   "nbconvert_exporter": "python",
   "pygments_lexer": "ipython3",
   "version": "3.11.9"
  }
 },
 "nbformat": 4,
 "nbformat_minor": 5
}
